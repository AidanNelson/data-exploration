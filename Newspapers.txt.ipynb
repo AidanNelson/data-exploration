{
 "cells": [
  {
   "cell_type": "markdown",
   "metadata": {},
   "source": [
    "# Read a Plain Text File of Newspapers into a DataFrame"
   ]
  },
  {
   "cell_type": "code",
   "execution_count": 10,
   "metadata": {
    "collapsed": true
   },
   "outputs": [],
   "source": [
    "import pandas as pd"
   ]
  },
  {
   "cell_type": "markdown",
   "metadata": {},
   "source": [
    "The newspapers.txt file on Chronicling America is delimited by the pipe | character, with spaces around it. You can read it into a DataFrame in Python/Pandas with the following command:"
   ]
  },
  {
   "cell_type": "code",
   "execution_count": 11,
   "metadata": {},
   "outputs": [],
   "source": [
    "newspapers = pd.read_csv('http://chroniclingamerica.loc.gov/newspapers.txt', sep='\\ \\|\\ ', skipinitialspace=True, engine='python')"
   ]
  },
  {
   "cell_type": "code",
   "execution_count": 12,
   "metadata": {},
   "outputs": [
    {
     "data": {
      "text/plain": [
       "pandas.core.frame.DataFrame"
      ]
     },
     "execution_count": 12,
     "metadata": {},
     "output_type": "execute_result"
    }
   ],
   "source": [
    "type(newspapers)"
   ]
  },
  {
   "cell_type": "markdown",
   "metadata": {},
   "source": [
    "And here's what they look like:"
   ]
  },
  {
   "cell_type": "code",
   "execution_count": 13,
   "metadata": {},
   "outputs": [
    {
     "data": {
      "text/html": [
       "<div>\n",
       "<style>\n",
       "    .dataframe thead tr:only-child th {\n",
       "        text-align: right;\n",
       "    }\n",
       "\n",
       "    .dataframe thead th {\n",
       "        text-align: left;\n",
       "    }\n",
       "\n",
       "    .dataframe tbody tr th {\n",
       "        vertical-align: top;\n",
       "    }\n",
       "</style>\n",
       "<table border=\"1\" class=\"dataframe\">\n",
       "  <thead>\n",
       "    <tr style=\"text-align: right;\">\n",
       "      <th></th>\n",
       "      <th>Persistent Link</th>\n",
       "      <th>State</th>\n",
       "      <th>Title</th>\n",
       "      <th>LCCN</th>\n",
       "      <th>OCLC</th>\n",
       "      <th>ISSN</th>\n",
       "      <th>No. of Issues</th>\n",
       "      <th>First Issue Date</th>\n",
       "      <th>Last Issue Date</th>\n",
       "      <th>More Info</th>\n",
       "    </tr>\n",
       "  </thead>\n",
       "  <tbody>\n",
       "    <tr>\n",
       "      <th>0</th>\n",
       "      <td>http://chroniclingamerica.loc.gov/lccn/sn85025...</td>\n",
       "      <td>Alabama</td>\n",
       "      <td>Chattanooga daily rebel. (Selma, Ala.) 1865-1865</td>\n",
       "      <td>sn85025905</td>\n",
       "      <td>2638820</td>\n",
       "      <td>2328-5869</td>\n",
       "      <td>3</td>\n",
       "      <td>April 19, 1865</td>\n",
       "      <td>April 27, 1865</td>\n",
       "      <td>http://chroniclingamerica.loc.gov/lccn/sn85025...</td>\n",
       "    </tr>\n",
       "    <tr>\n",
       "      <th>1</th>\n",
       "      <td>http://chroniclingamerica.loc.gov/lccn/sn82015...</td>\n",
       "      <td>Alabama</td>\n",
       "      <td>The Chattanooga Daily Rebel. (Chattanooga, Ten...</td>\n",
       "      <td>sn82015209</td>\n",
       "      <td>8807897</td>\n",
       "      <td>2328-5826</td>\n",
       "      <td>228</td>\n",
       "      <td>Aug. 9, 1862</td>\n",
       "      <td>April 22, 1864</td>\n",
       "      <td>http://chroniclingamerica.loc.gov/lccn/sn82015...</td>\n",
       "    </tr>\n",
       "  </tbody>\n",
       "</table>\n",
       "</div>"
      ],
      "text/plain": [
       "                                     Persistent Link    State  \\\n",
       "0  http://chroniclingamerica.loc.gov/lccn/sn85025...  Alabama   \n",
       "1  http://chroniclingamerica.loc.gov/lccn/sn82015...  Alabama   \n",
       "\n",
       "                                               Title        LCCN     OCLC  \\\n",
       "0   Chattanooga daily rebel. (Selma, Ala.) 1865-1865  sn85025905  2638820   \n",
       "1  The Chattanooga Daily Rebel. (Chattanooga, Ten...  sn82015209  8807897   \n",
       "\n",
       "        ISSN  No. of Issues First Issue Date Last Issue Date  \\\n",
       "0  2328-5869              3   April 19, 1865  April 27, 1865   \n",
       "1  2328-5826            228     Aug. 9, 1862  April 22, 1864   \n",
       "\n",
       "                                           More Info  \n",
       "0  http://chroniclingamerica.loc.gov/lccn/sn85025...  \n",
       "1  http://chroniclingamerica.loc.gov/lccn/sn82015...  "
      ]
     },
     "execution_count": 13,
     "metadata": {},
     "output_type": "execute_result"
    }
   ],
   "source": [
    "newspapers.head(2)"
   ]
  },
  {
   "cell_type": "markdown",
   "metadata": {},
   "source": [
    "You can group by any of the columns in a DataFrame, then sort the results:"
   ]
  },
  {
   "cell_type": "code",
   "execution_count": 14,
   "metadata": {},
   "outputs": [
    {
     "data": {
      "text/plain": [
       "State\n",
       "Arkansas                  1\n",
       "Piedmont                  1\n",
       "Colorado                  1\n",
       "Massachusetts             1\n",
       "Puerto Rico               3\n",
       "Alabama                   4\n",
       "Georgia                   7\n",
       "Connecticut               8\n",
       "Wisconsin                 9\n",
       "New York                 16\n",
       "Nevada                   17\n",
       "Iowa                     18\n",
       "California               19\n",
       "Delaware                 20\n",
       "Maryland                 22\n",
       "Hawaii                   23\n",
       "South Dakota             25\n",
       "Oklahoma                 27\n",
       "Nebraska                 29\n",
       "Michigan                 34\n",
       "Illinois                 35\n",
       "West Virginia            39\n",
       "Florida                  40\n",
       "Utah                     40\n",
       "Virginia                 46\n",
       "Kansas                   46\n",
       "North Dakota             46\n",
       "Washington               48\n",
       "Minnesota                49\n",
       "Texas                    54\n",
       "Idaho                    55\n",
       "Indiana                  58\n",
       "Oregon                   66\n",
       "Arizona                  68\n",
       "District of Columbia     69\n",
       "Vermont                  70\n",
       "Kentucky                 78\n",
       "Montana                  80\n",
       "New Mexico               88\n",
       "Missouri                 88\n",
       "North Carolina           92\n",
       "Pennsylvania             95\n",
       "South Carolina          122\n",
       "Tennessee               125\n",
       "Louisiana               128\n",
       "Ohio                    129\n",
       "Mississippi             160\n",
       "dtype: int64"
      ]
     },
     "execution_count": 14,
     "metadata": {},
     "output_type": "execute_result"
    }
   ],
   "source": [
    "newspapers.groupby(['State']).size().sort_values(ascending=True)"
   ]
  },
  {
   "cell_type": "code",
   "execution_count": 15,
   "metadata": {},
   "outputs": [],
   "source": [
    "%matplotlib inline"
   ]
  },
  {
   "cell_type": "markdown",
   "metadata": {},
   "source": [
    "Then you can easily turn the DataFrame into a horizontal bar graph like this:"
   ]
  },
  {
   "cell_type": "code",
   "execution_count": 16,
   "metadata": {},
   "outputs": [
    {
     "data": {
      "text/plain": [
       "<matplotlib.axes._subplots.AxesSubplot at 0x110aa1630>"
      ]
     },
     "execution_count": 16,
     "metadata": {},
     "output_type": "execute_result"
    },
    {
     "data": {
      "image/png": "[encoded data removed]",
      "text/plain": [
       "<matplotlib.figure.Figure at 0x10fa20828>"
      ]
     },
     "metadata": {},
     "output_type": "display_data"
    }
   ],
   "source": [
    "newspapers.groupby(['State']).size().sort_values(ascending=True).plot(kind='barh', figsize=(9,9))"
   ]
  },
  {
   "cell_type": "code",
   "execution_count": null,
   "metadata": {
    "collapsed": true
   },
   "outputs": [],
   "source": []
  }
 ],
 "metadata": {
  "kernelspec": {
   "display_name": "Python 3",
   "language": "python",
   "name": "python3"
  },
  "language_info": {
   "codemirror_mode": {
    "name": "ipython",
    "version": 3
   },
   "file_extension": ".py",
   "mimetype": "text/x-python",
   "name": "python",
   "nbconvert_exporter": "python",
   "pygments_lexer": "ipython3",
   "version": "3.6.1"
  }
 },
 "nbformat": 4,
 "nbformat_minor": 1
}
