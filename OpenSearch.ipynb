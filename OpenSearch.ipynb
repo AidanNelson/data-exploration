{
 "cells": [
  {
   "cell_type": "markdown",
   "metadata": {},
   "source": [
    "# What is OpenSearch?\n",
    "OpenSearch is a collection of simple formats for the sharing of search results.\n",
    "We use OpenSearch formats to help people discover and use our search engine and to syndicate search results across the web.\n",
    "\n",
    "# What skills do you need to navigate it?\n",
    "* Reading\n",
    "* A willingness to try\n",
    "\n",
    "# What can you do with it?\n",
    "Find cool stuff on loc.gov website without hassle.\n",
    "Find the browser you use below and give it a try yourself:"
   ]
  },
  {
   "cell_type": "markdown",
   "metadata": {},
   "source": [
    "### Chrome\n",
    "* type into the url bar: _loc.gov WWI sheet music_\n",
    "* Then hit enter. \n",
    "* You should see Chrome convert it to https://www.loc.gov/search/?q=WWI+sheet+music&sp=&new=true and BAM! You found some cool stuff we have. "
   ]
  },
  {
   "cell_type": "markdown",
   "metadata": {},
   "source": [
    "### Firefox\n",
    "* visit the https://www.loc.gov/ website\n",
    "* click the search icon next to your URL bar ![click the search icon next to your URL bar](files/clickSearchIcon.png \"click the search icon next to your URL bar\")\n",
    "* click _Add \"Library of Congress Search\"_ ![click to add the Library of Congress Search](files/addLOCsearch.png \"click to add the Library of Congress Search\")\n",
    "* See that it is added to the search engines ![See that LOC search has been added to the search engine list](files/seeLOCopensearchIsAdded.png \"See that LOC search has been added to the search engine list\")\n",
    "* Search for _WWI sheet music_ and click Library of Congress Search ![Add your search term and click on Library of Congress Search](files/searchWWIsheetMusic.png \"Add your search term and click on Library of Congress Search\")\n",
    "* See that you are directed to https://www.loc.gov/search/?q=WWI+sheet+music&sp=&new=true"
   ]
  },
  {
   "cell_type": "code",
   "execution_count": null,
   "metadata": {
    "collapsed": true
   },
   "outputs": [],
   "source": []
  }
 ],
 "metadata": {
  "kernelspec": {
   "display_name": "Python 3",
   "language": "python",
   "name": "python3"
  },
  "language_info": {
   "codemirror_mode": {
    "name": "ipython",
    "version": 3
   },
   "file_extension": ".py",
   "mimetype": "text/x-python",
   "name": "python",
   "nbconvert_exporter": "python",
   "pygments_lexer": "ipython3",
   "version": "3.6.1"
  }
 },
 "nbformat": 4,
 "nbformat_minor": 2
}
