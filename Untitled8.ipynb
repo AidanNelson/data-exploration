{
 "cells": [
  {
   "cell_type": "code",
   "execution_count": 1,
   "metadata": {
    "collapsed": true
   },
   "outputs": [],
   "source": [
    "foo = [('Illinois', 24),\n",
    " ('Kansas', 20),\n",
    " ('District of Columbia', 9),\n",
    " ('Missouri', 9),\n",
    " ('Minnesota', 7),\n",
    " ('New York', 5),\n",
    " ('North Carolina', 4),\n",
    " ('South Dakota', 3),\n",
    " ('Nebraska', 2),\n",
    " ('Washington', 2)]"
   ]
  },
  {
   "cell_type": "code",
   "execution_count": 2,
   "metadata": {
    "collapsed": false
   },
   "outputs": [
    {
     "data": {
      "text/plain": [
       "[('Illinois', 24),\n",
       " ('Kansas', 20),\n",
       " ('District of Columbia', 9),\n",
       " ('Missouri', 9),\n",
       " ('Minnesota', 7),\n",
       " ('New York', 5),\n",
       " ('North Carolina', 4),\n",
       " ('South Dakota', 3),\n",
       " ('Nebraska', 2),\n",
       " ('Washington', 2)]"
      ]
     },
     "execution_count": 2,
     "metadata": {},
     "output_type": "execute_result"
    }
   ],
   "source": [
    "foo"
   ]
  },
  {
   "cell_type": "code",
   "execution_count": 5,
   "metadata": {
    "collapsed": false
   },
   "outputs": [],
   "source": [
    "a,b = zip(*foo)"
   ]
  },
  {
   "cell_type": "code",
   "execution_count": 4,
   "metadata": {
    "collapsed": false
   },
   "outputs": [
    {
     "name": "stdout",
     "output_type": "stream",
     "text": [
      "<zip object at 0x10432dd48>\n"
     ]
    }
   ],
   "source": []
  },
  {
   "cell_type": "code",
   "execution_count": null,
   "metadata": {
    "collapsed": true
   },
   "outputs": [],
   "source": []
  }
 ],
 "metadata": {
  "kernelspec": {
   "display_name": "Python 3",
   "language": "python",
   "name": "python3"
  },
  "language_info": {
   "codemirror_mode": {
    "name": "ipython",
    "version": 3
   },
   "file_extension": ".py",
   "mimetype": "text/x-python",
   "name": "python",
   "nbconvert_exporter": "python",
   "pygments_lexer": "ipython3",
   "version": "3.4.4"
  }
 },
 "nbformat": 4,
 "nbformat_minor": 0
}
