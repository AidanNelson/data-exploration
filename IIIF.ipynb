{
 "cells": [
  {
   "cell_type": "markdown",
   "metadata": {},
   "source": [
    "# What is IIIF?\n",
    "From their website:\n",
    "> The International Image Interoperability Framework (IIIF) is a set of shared application programming interface (API) specifications for interoperable functionality in digital image repositories. The IIIF is comprised of and driven by a community of libraries, museums, archives, software companies, and other organizations working together to create, test, refine, implement and promote the IIIF specifications. Using JSON-LD, linked data, and standard W3C web protocols such as Web Annotation, IIIF makes it easy to parse and share digital image data, migrate across technology systems, and provide enhanced image access for scholars and researchers. In short, IIIF enables better, faster and cheaper image delivery. It lets you leverage interoperability and the fabric of the Web to access new possibilities and new users for your image-based resources, while reducing long term maintenance and technological lock in. IIIF gives users a rich set of baseline functionality for viewing, zooming, and assembling the best mix of resources and tools to view, compare, manipulate and work with images on the Web, an experience made portable–shareable, citable, and embeddable.\n",
    "\n",
    "Or in other terms, it is a standard way to get an image using a API.\n",
    "To learn more about the technical details please see http://iiif.io/api/image/2.1/\n",
    "\n",
    "# What the different parts of the URL mean?\n",
    "`{scheme}://{server}{/prefix}/{identifier}/{region}/{size}/{rotation}/{quality}.{format}`\n",
    "* scheme - Indicates the use of the HTTP or HTTPS protocol in calling the service.\n",
    "* server - The host server on which the service resides. The parameter may also include a port number.\n",
    "* prefix - The path on the host server to the service. This prefix is optional, but may be useful when the host server supports multiple services. The prefix may contain multiple path segments, delimited by slashes, but all other special characters must be encoded. See URI Encoding and Decoding for more information.\n",
    "* identifier - The identifier of the requested image. This may be an ark, URN, filename, or other identifier. Special characters must be URI encoded.\n",
    "* region - The region parameter defines the rectangular portion of the full image to be returned. Region can be specified by pixel coordinates, percentage or by the value “full”, which specifies that the entire image should be returned.\n",
    "* size - The size parameter determines the dimensions to which the extracted region is to be scaled.\n",
    "* rotation - The rotation parameter specifies mirroring and rotation. A leading exclamation mark (“!”) indicates that the image should be mirrored by reflection on the vertical axis before any rotation is applied. The numerical value represents the number of degrees of clockwise rotation, and may be any floating point number from 0 to 360.\n",
    "* quality - The quality parameter determines whether the image is delivered in color, grayscale or black and white.\n",
    "* format - The format of the returned image is expressed as an extension at the end of the URI.\n",
    "\n",
    "\n",
    "# What is supported?\n",
    "You can directly query the server to find out what is supported for a give image. What is returned is a json response with various details, like the different formats that you can have the image generated in, the quality of the image generated, and other various actions it can take on the image like rotation or mirroring. Here is an example:\n",
    "http://tile.loc.gov/image-services/iiif/service:sgp:sgpbatches:batch_dlc_anacostia_ver01:data:sn84025948:0023728866A:1942081001:0202/info.json\n",
    "\n",
    "# How do I flip an image?\n",
    "You merely include the ! infront of the {rotation} part of the URL:\n",
    "http://tile.loc.gov/image-services/iiif/service:sgp:sgpbatches:batch_dlc_anacostia_ver01:data:sn84025948:0023728866A:1942081001:0202/full/full/!0/default.jpg\n",
    "\n",
    "# How do I rotate a image?\n",
    "You specify the degrees to rotate in the {rotation} part of the URL. Here is an example where we rotate it 90 degrees:\n",
    "http://tile.loc.gov/image-services/iiif/service:sgp:sgpbatches:batch_dlc_anacostia_ver01:data:sn84025948:0023728866A:1942081001:0202/full/full/90/default.jpg\n",
    "\n",
    "# How do I get different sizes?\n",
    "One way is by percent of the full image:\n",
    "### 50 percent of full size\n",
    "http://tile.loc.gov/image-services/iiif/service:sgp:sgpbatches:batch_dlc_anacostia_ver01:data:sn84025948:0023728866A:1942081001:0202/full/pct:50/0/default.jpg\n",
    "### 5 percent of full size\n",
    "http://tile.loc.gov/image-services/iiif/service:sgp:sgpbatches:batch_dlc_anacostia_ver01:data:sn84025948:0023728866A:1942081001:0202/full/pct:5/0/default.jpg\n",
    "\n",
    "# How do I select a region?\n",
    "One way you can select a region is by using a percent of the image. The example below: starting 25 percent from the x-axis and 15 percent from the y-axis, tak 50 percent of the total width and 45 percent of the total height: \n",
    "http://tile.loc.gov/image-services/iiif/service:sgp:sgpbatches:batch_dlc_anacostia_ver01:data:sn84025948:0023728866A:1942081001:0202/pct:25,15,50,45/full/0/default.jpg"
   ]
  },
  {
   "cell_type": "code",
   "execution_count": null,
   "metadata": {
    "collapsed": true
   },
   "outputs": [],
   "source": []
  }
 ],
 "metadata": {
  "kernelspec": {
   "display_name": "Python 3",
   "language": "python",
   "name": "python3"
  },
  "language_info": {
   "codemirror_mode": {
    "name": "ipython",
    "version": 3
   },
   "file_extension": ".py",
   "mimetype": "text/x-python",
   "name": "python",
   "nbconvert_exporter": "python",
   "pygments_lexer": "ipython3",
   "version": "3.6.1"
  }
 },
 "nbformat": 4,
 "nbformat_minor": 2
}
