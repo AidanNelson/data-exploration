{
 "cells": [
  {
   "cell_type": "code",
   "execution_count": 1,
   "metadata": {
    "collapsed": true
   },
   "outputs": [],
   "source": [
    "import requests"
   ]
  },
  {
   "cell_type": "markdown",
   "metadata": {},
   "source": [
    "In the next block, you just need to fill in some API URL. For example, put \"http://chroniclingamerica.loc.gov/search/pages/results/?state=Arizona&format=json\" in there."
   ]
  },
  {
   "cell_type": "code",
   "execution_count": 2,
   "metadata": {
    "collapsed": true
   },
   "outputs": [],
   "source": [
    "r = requests.get(\"http://chroniclingamerica.loc.gov/search/pages/results/?state=Arizona&format=json\").json()"
   ]
  },
  {
   "cell_type": "markdown",
   "metadata": {},
   "source": [
    "Now, we have that page (go ahead, you can click on it to look at it and see what it looks like) availble to us in this little script. We can already do some cool stuff:\n",
    "\n",
    " - how many total items are there in this search?"
   ]
  },
  {
   "cell_type": "code",
   "execution_count": 3,
   "metadata": {
    "collapsed": false
   },
   "outputs": [
    {
     "data": {
      "text/plain": [
       "311217"
      ]
     },
     "execution_count": 3,
     "metadata": {},
     "output_type": "execute_result"
    }
   ],
   "source": [
    "r['totalItems']"
   ]
  },
  {
   "cell_type": "markdown",
   "metadata": {},
   "source": [
    "Easy peasy! Now let's look at some of the items:"
   ]
  },
  {
   "cell_type": "code",
   "execution_count": 10,
   "metadata": {
    "collapsed": false
   },
   "outputs": [
    {
     "name": "stdout",
     "output_type": "stream",
     "text": [
      "http://chroniclingamerica.loc.gov/lccn/sn84020558/1906-06-10/ed-1/seq-2.json\n"
     ]
    }
   ],
   "source": [
    "page_url = r['items'][0]['url']\n",
    "print(page_url)"
   ]
  },
  {
   "cell_type": "code",
   "execution_count": 6,
   "metadata": {
    "collapsed": false
   },
   "outputs": [
    {
     "data": {
      "text/plain": [
       "'TilU AIUZOXA JIU\\'U1I1jICA: SUNDA.Y SlOIiMKU, JLTKK lO, 1\\'JOO\\nTHE ARIZONA REPUBLICAN\\nPublished Every Day in the Year bj\\nTHE\\nArizona Publishing Co.\\nGEO. W. VICKERS. Pres. and Cen. Mg.\\nExclusive Morning Associated Press\\nP\\'spatches. . ,\\nThe only Perfecting Prss In Arizona\\nThe only battery of Linotypes In\\nArizona.\\nPublication office: 35-38 East Adams\\nstreet. Telephone Main 47.\\nEntered at the postoffiee at Phoenix,\\nArizona, as mall matter of the second\\nclass.\\nSUBSCRIPTION RATES.\\nBy mail, dally, one year WOO\\nWeekly, one year 2.00\\nCash in advance.\\nBY CARRIER.\\nDally, per month 73 cts\\nUNlONfcQLrL\\nPHOENIX. ARIZONA, JL\\'XLO U. 1906.\\nA BEGGING SENATORSHIP.\\nThe rejection by that unambitious ag\\nlku\\'turist, the Hon. Dwtght Coburn. of\\nthe appointment to the vacant Kansas\\nsenatorship need not be attributed to\\nhis utter disregard of pomp and pow\\ner. Mr. Coburn is already in power,\\nvast power, practically illimitab\\'.e pow\\ner. He is lord of the immeasurable\\ncornfie\\'ds of Kansas, cf wheat fields so\\nwide that the human eye cannot reach\\nthe boundaries. Mr. Coburn is at tha\\nhead of the agricultural department\\nof the most agricultural state in the\\nunion. What more could he desire\\nwithout subjecting himself to the sus\\npicion of sordidness?\\nBesides the prof fere J gift was not as\\nalluring at c\\'ose range as it might have\\nappeared from a distance to be. It will\\ntake a lot of disinfecting to rid it of\\nthe smell of Burton. The odor was one\\nwhich must have boon nauseating to\\none whose nostrils had become used to\\nthe fragrance of new mown hay and\\nthe healthful though frequently homely\\nsmells of the soil.\\nA United States senatorship is some\\nthing we are not accustomed to see\\ndespised. We have known men to pol\\nlute their souls for an opportunity to\\npollute a toga. It can be readily un\\nderstood though that a pure minded\\nman with an over nice sense or uonor\\nwould hesitate to mount to a seat to\\nwhich so much of dishonor has at\\ntached. Then there was not much tim given\\nto a successor of Burton to make the\\ncountry forget Burton. The term wi 1\\nexpire next March. It is this latter\\nfact that probably moved Governor\\nHoch to nominate Mr. Coburn to whom\\nhe owed no overwhelm;ngpo\\'itical debt,\\nsuch as the services of Judge Caldwell\\nimposed upon and such as in a small\\ner measure he owed to JuJge Benson,\\nto whom he has tendered the oppoim\\nment. Both these men contributed\\nlargely to his political making.\\nReverting to Mr. Coburn, there is an\\nother possible reason why he declined\\nthe senatorship which was held out to\\nhim. Perhaps the;e is a touch of sup\\nerstition about him.. That senatorial\\nline from Lane, the suicide down,\\nmight set even an unsupersti\\ntious man to thinking. It is\\nan unbroken line of misfor\\ntune, sudden physical or political death\\nand dishonor. It has long been ca,l!sl\\nin Kansas, the fatal succession.\"\\nIt is a pleasing peculiarity of Judge\\nKent\\'s adjudication of watjr disputes,\\nthat the litigants are not kept wait\\ning long for a status of some sort. In\\nthe complex relations of the water\\nusers of the valley to one another it\\nis difficult to pick out the exact rights\\nof any of them. There is sucn a thing\\nthough, as distributing irrigating water\\nin such a way as to serve the greatest\\npossible number with the least possible\\nprejudice to the rights of any. That\\nwas accomp\\'ishod by the- decree of yes\\nterday. All the litigants of cours.\\ncould not hae all they wanted, biit\\nthey must fee: that thy did very well\\nwith 32.1X10 inches in the river when\\nthere ought to have been at least 60, 0n0.\\nTHE PROBLEM OF PRESIDENTS.\\nMr. Williams\\' suggestion that ex-\\npresidents, ox-blacksmiths and ox-car-rentors\\nshould equally become the\\ncharges of the country will perhaps\\nmeet with more favor throughout the\\ncountry than the other suggestion that\\nformer presidents be maintained in a\\nstation of life to which they had been\\nelevated; sometimes by accident. We\\nlook upon the presidency as a more or\\nless sacred office in which the person\\nality of the occupant is for four or\\neight years lost. But at the end of\\nhis term he regains his personality,\\ntakes it away with him and becomes a\\nplain America n citizen, with the ad\\nvantage over his fellow cili.ens of hav\\ning xecured a place more- or !\\'ss oft\\nin the history of hi.--, country. No pres\\nident has ever retired from ollice in\\nwant or in the vicinity of want. None\\nare likely to do so, but most of them\\nhave retired with earning capabilities\\nincreased by prestige.\\nIt is generally admitted, though, thai\\npresidents should be better paid; that\\nthey should not only receive a more\\nmunificent salary, or, rather, a salary\\nmore nearly munificent, ana tliat jro-\\nvision should be made for their neces\\nsarily heavy expenses.\\nBut it is undoubtedly the belief o\\nthe majority of Americans that, having\\nretired from office, presidents should\\nbo welcomed bark to the ranks on\\nequal terms.\\nStill, the proposition for the pension\\ning of presidents is immensely superior\\nto one advanced and quite widely advo\\ncated a couple of years ago of creating\\nfor them a sort of aristocracy similar\\nto that of the Elder Statesmen of\\nJapan.\\nWe have other problems much more\\nvital than this one of our ex-prcsl-dents.\\nAmericans will welcome home that\\nplucky adopted daughter. Miss May\\nSutton, with as great fervor as if her\\nlaurels were not soiled by defeat. One\\ncannot always be a tennis champion\\nor any other kind of a champion worth\\nbeing.\\nIs it not possible that the failure of\\nthe water works at Cincinnati yester\\nday was a visitation of a just provi\\ndence provoked by a Cincinnati court\\ntaking jurisdiction in the rhoenix\\nwater works matter?\\nLittle James\\n(Thc Views of all Parties to the Late\\nPacking House Expose.)\\nThis here whole Country\\'s been give\\na Emmytick last week. A Emmytick\\nis something \\'at Works on th\\' Stum\\nmick like a Crime does on the Con\\nscience. It produces what some ad\\nvanced Sientists calls Intestnle Re\\nmorse. It\\'s something \\'at makes you\\nwish you hadn\\'t.\\nIt\\'s been give this time in what\\'s\\ncalled a Alleypathic dose to Disting\\nwish it f\\'um them MiuUoor Doses what\\nth\\' Homypathists gives which only ex\\ncites th\\' Stummick to Riot an\\' Disor\\nder. A Alleypathic close is Calcylated\\nto raise a Generle Inscrreckshun an\\nthen put it down by makin\\' a Clean\\nSwec p.\\nThis was th\\' first time \\'at they was\\neves a Emmytick give to everybody\\nwithout regard to Age, Sects or Collor,\\n\\'cept them \\'at hadn\\'t never et no Pack\\nin\\' house Proddux. It was fun fer\\nthem to stand by an\\' watch th\\' rest of\\nth\\' 80 Millyun.s of People in th\\' United\\nStates turn theirselfs Inside out to see\\nif they was any traces of that there\\nCand Beef Lingrrin\\' anywhere into \\'em\\nyit.\\nThis wholesale Emmytick was ad\\nminiistered by two Emminent Alley\\npaths called Docter Xeill an\\' Docter\\nRetinoids, which opened up a oflis in\\nth\\' Stock Yards Districk in Chicago,\\nwhere they compounded th\\' Medicine\\nwhich has give th\\' Whole Nashun th\\'\\nSee sickness.\\nTh\\' Docters they sc-z: \"We know this\\nis pretty Ruff on th\\' Pokes but it\\'ll be\\nRood fer their insides. We ain\\'t mix\\nin\\' it up Speshal\\'.y fer th\" Peeple. Th\"\\nI\\'ackin\" Houses is th\" Ducks we\\'re af\\nter, an\\' in order to git rid of \\'em th\\'\\nWhole Body pollytick \\'II haf to suffer\\nsome. When a man takes a Ordnary\\nEmmytick it makes him sjick clean to\\nhis Extremitous an\" he wonders why\\nthey can\\'t git up a medicin \\'at \\'II do its\\nwork without afectin\\' th\\' Whole Sys\\ntem that away. We can\\'t avo\\'d cre\\nalin\\' this here Nashnle Nawsea but th\\'\\ncountry\\'ll be much healthier when it\\'s\\nall over after it Throze up tb Packin\\'\\nHouses.\"\\nThe 1\\'okss while they was Rithin\\' in\\nPane they sez: \"Mebby this here\\'s all\\nfer th\\' Best but we wisht \\'at Docter\\nNeill an\\' Docter Rennolds had \\'a\\' give\\nus Cloroform an\\' removed these here\\nPackin\\' Houses by a Surgicle Oper\\nar.hun of some k\\'nd so\\'s it wuddent a\\nupsot onr Kizzicle Systems sV\\'\\nBut the Reel howl comes f\\'um th\\'\\nPackers theirselfs as soon as they got\\nso\\'s \\'at they could Speek. They asts\\n\"Is this here what you call a Paternle\\nGuverment \\'at\\'s tryin\" to Encurridge\\nus to work fer a Commershle Sup\\npremisy among the Nashuns of th\\'\\nEarth? Jist when we git things start\\ned rite it comes along an\\' Thto.o us\\nDown. Spose we was a Pixel i in\\' th\\'\\nPeeple. Th\\' guverment could Reform\\nus if it wanted to without Bustin\\' us\\nI up in B:zness. We wasn\\'t Reely doin\\'\\nno harm. If th\\' Fokes was a eatin\\'\\nSuperanuyated Horses an\\' thought it\\nwas Chicken they was satisfide. We\\nwas sellin\\' \\'em th\\' Horse meat as\\ncheap as we could an\\' make a liviu\\'\\nProfit. Mebbe we didn\\'t cleen up our\\nSlotter Houses morcn\\'n wunst about\\nevery so offen an\\' mebbe we got a lot\\no\\' Lothesome diseases canned uo an\\'\\nput onto th\\' market, but them \"tTtrks\\nwasn\\'t Advertised on th\\' Handsome\\nLabils of th\\' cans which is th\\' highest\\nSpeciment.s of th\\' Printers\\' Art.\\n\"Th-se here Docters Neill an\" Reti\\nnoids lias made more people sick hi\\ntheir stummicks in a single day all\\nover th\\' United States \\'n our com\\nbined Beef Trust\\'s done in its Whole\\nCarear.\\n\"But if tli\" guverment was Hell bent\\non our Rforniashun, what did it come\\na Buttiir in this away fer? Why didn\\'t\\nit call us out to Wun Side an\\' say. \\'Wo\\ngot our ize on you; Now. you do Dif\\nfrunt.\\' We\\'re Intelligent Gentlemen.\\nWe can take a hint without bein\\'\\nburied in th\\' Debrees of our Bizness.\"\\nLITTLE JAMES.\\nEven the boastful man has but lit\\ntle to say about his go d brick invest\\nments. Chicago News.\\no\\nMelczer Bros. Co., sole dealers Old\\nRutledge.\\n\\'t\\'Vk fiVi\\'-ifeSS\\n!AU0G!(\\nEXTRA LOW PRICE\\nat\\nTHE FAIR\\n212 E. Washington Street,\\nI\\ni\\n1 ; jj\\nr 1\\nM\\nit\\nid Timar - - - -finnr, i . , M ,, hlt j ,i , , , ,\\nAV. l&LrllS h On North Fourth Ave. we arc- It I f\\nMENTONE\\nSANATORIUM\\nSituated at Mentone. California,\\non Santa l\\'e and Southern Pa\\ncific railroads, 3 miles from Bed\\nlands, an- all-the-year-round re\\nsort for the treatment of throat\\nand lung troubles. Altitude, 1800\\nfeet fanned by mountain ana\\nocean breezes. Kates, including\\nroom or tent, board and all pro\\nfessional services, $12.50 to $20\\nper week.\\nBeautifully illustrated booklet\\nfree. A postal card will fetch\\nit.\\nAddress\\nA. R. SCHULTZ, Business Mgr.\\nMentone, California.\\nMiller\\'s\\nDrug Store\\nN. E. Cor. Center\\nand Wash Sts.\\nPhone Main 113.\\nExquisite\\ndrinks of every\\ngood kind at\\nthe Big White\\nOnyx Fountain\\nStop today.\\nProof\\nWe have been claiming\\nmost satisfactory drug\\nice in this city. Test\\nclaims. Compare our quali\\nties and prices. Consider our\\nsystem of double checking all\\nprescriptions, which elimi\\nnates the possibility of error.\\nGive our drug service a trial.\\nWe have no fear but what you\\nu ill come again.\\nOpen All Right.\\nGold,\\nSilver, and\\nOres and\\nWORKS: Humboldt, Yavapai County, Arizona, Near Prescott.\\nOFFICES: Prescott Nat;onal Bank Building, Prescott, Arizona. Empire\\nBuilding, New York.\\nCHARLES E. FINNEY, Vice President and\\nEWARD W. BROOKS, Or Purchasing Agent.\\na Come in and See\\nBaldwin,\\nWeber,\\ni\\nWhich we have been selling in this terri\\ntory for 25 years.\\nREDEWILL\\nI24 West\\nWashltiRton\\nAll Horse and Mule breeders Take Notice\\nThe imported French Tercheron stallion Calypso, who was imported t.y\\na! TheUvV n 80\"S1w1ill0ma,ke -eason of 1906 at my home ranch, known\\n- k, I . J\"2 miIe West 0f Alhambra on Grand canal Calypso is\\nweight 2050 lbs., age 7 years, registered No. 43881, record No\\nin the American stud book and also the famous mamoth Jack Napo\\nleon whose colts took first and second prizes at the Territorial fair will\\nmake the season at the same place.\\nTerms: Calypso, ?15 season; Napoleon $10 season. Usual privileges\\n. M. B. HOROVITZ Owner.\\nn .\\nIn arranging\\nyou via\\nV\\nWABASH\\nfroir.\\niicagu or St. T.onis lo New York\\nequipment, fast time via Niagara Fall\\nBerkshire hills.\\nROSS C. CLINE.\\nAgent.\\nWE DON\\'T THROW DIRT BUT WE SELL\\nPROPERTY WITH US AND LETS \"GET BUSY.\"\\nW. H. Ward & Company\\nNo. 9 West Adama Street.\\nPhone 7-11 Black. List\\nyour\\nI fcJ olferins a modern -room house, BI . 3\\nu\\nw w ith large hall, bath and large II j I\\nserein room: a \"(Hid barn, with J\\n1 U\\nI I H mow for hay, and stalls and car- I ; J,. kl\\nIII p!f o o Jl\\nI \\' riage room floored; east front- pj Jr\\nJ 9 age, with fine shade and lawn. \\' j :\\nU a The house was newly painted I; j 1\\nI N i. \\'\\nS r \"I\\n- less than a year ago. The price ;. j h\\nH ii I .J\\n\\' p for a few days\\n1 !i\\nI Greene & Griffin if\\nREAL ESTATE\\nn 42 N. Center St. Wlfi\\ni ; i ii\\n! Sooit\\'s Sanlai-PGpsis Oapsofo i\\nA POSITIVE. CURE\\nfii.\" \"i Vor inflammation irCatsrr\\ntV\\'\\'V. W ci she hl!i.ider P.nd Uiseait\\n-5-. j, J-ldncys No corn no pa:\\nW Cures quickly aul Perm\\nTAi!X \" 1 rrrt\\'y the vers; case o\\nj fct r- IJ TOncrfhi-a an.l tjicet, i-\\nt t-ZZi. I lutfit of Lev-- long s:ai0\\nY I \\'\"f- AJiutoly narroic-\\n! tefi o\\'d bv druKsists. Prl.;\\nijv-V Jl.\\'O. or tiy w1, pos\\'-ti..\\nI a I-. .:v--. Z0.i 1 \" \" \"s - WHEN\\nELVEY &. HULETT. AGENTS.\\nTHE j\\nHUMBOLDT, ARIZONA\\ni\\nBUYERS OF H\\nCopper\\nCopper Ues.\\nGeneral Manager.\\nOffice, Phoenix, Ariz.\\nR\\nyi\\nour World Renown\\nBehr,\\nFischer,\\nfVlUSIC 0\\nStreet\\n32 she:\\nH\\n1\\nFollow tK Plag\\n9\\nfor your trip cast,\\nask agent to route\\nCONTINENTAL LIMITED.\\nami Now V.ur):, n,i ..r.i..iu m...i\\ns, Mohawk. Valley! Hudson Iliver ami\\nLOS ANGELES.\\nIT. LIST\\nYOUR\\nWeal Tstate, Insurance\\nand Brokerage\\nPHOENIX, ARIZ.\\nProperty With Us.\\nSummer Prices\\nPrevail\\nBuying NOW means buying at a\\nunusual sacrilice in prices to sell pianos in the dull season.\\nRENTALS from $4.00 per month up.\\nThe Wiley B. Allen\\nCompany\\n9-11 East\\nPianos tuned in city, $4.00.\\nKj.r..,3f.\\'KxtXrJ\\'.\\nSt. Louis in 53 hrs. 10 miiL\\nVIA GOLDEN STATE LIMITED\\nAn electric lighted veatlbuled train, through without change via\\nSouthern Pacific\\nEl Paso & Southwestern\\nRock island\\nStandard observation, 2 tourist sleepers, library buffet cars, mag\\nnificent dining cars. Meals a \\'.a carte.\\nl-\\'or folders rates and schedules for any trip address\\nRICHARD WARREN, V. R. STILES,\\nTraveling Passenger Agent. General Pasesnger Agent.\\nEl PASO, TEXAS.\\nWhy be Uncomfortable\\nELECTRIC FANS AND ELECTRIC IRONS CAN BE ATTACHED\\nANYWHERE IN YOUR RESIDENCE\\nWORKING OR RESTING. DECIDE\\nYOUR WIFE AT HOME THIS SUMMER.\\nPACIFIC GAS & ELEC. CO.\\nCORNER FIRST AVE. AND JEFFERSON ST.\\nARIZONA SCHOOL OF MUSIC\\nMRS. SHIRLEY CHRISTY, Director\\nSummer term beginning June 4th. Piano, Prof. Elmer A\\nj Todd; Elocution and Physical\\nCcoley.\\nYee Sing\\'s American Kitchen\\nParties served with extra fine real Chinese China dishes. Private rooms\\nand family ctyle when desired. Sing does all his own pastry. For a good\\ndinner on special occasions or at ordinary times come to Sing\\'s new Ameri\\ncan Kitchen.\\n33 North Center Street. Phoenix\\nIF YOU DESIRE TO EAT CLEAN,\\nATRIAL.\\nUje ENGLISH\\nCHARLIE\\nXXX\"X\\n& QUNG, Props., 25 and.\\nThe California\\nRestaurant\\ncttttt\\nGloves Harness Saddles\\nAT WHOLESALE PRICES\\nARIZONA SADDLERY CO.\\nPhone Black 1492. 45 N. Center St., Phoenix\\nOak Creeii\\nNorthern Arizona\\'s most (lelk\\nlitihtful\\nchoice fruits, unequalled climate and\\nD.\\nMESA-ROOSEVELT STAGE CO.\\nMESA,\\nROOSEVELT,\\nDaily Except Sunday.\\nLeave 8:00 a, m. Mesa\\nLeave 6:00 a. m. Roosevelt\\nArrives at Globe following flay at 4 p. m.\\nDuring week of Territorial fair, Phoenix.\\nRoosevelt to Mesa,\\n- ,.Wt 8X6 f repared t0 aanaie slow and fast treight In any quantity.\\nV rite for rates. n.n.rt -;-. a :\\nlilZ Y. TI?r 3Tt rT-rTTV. 1 . J (Hi Will. . J .MJUH Wl\\nf -f 1- -I- -r -b -h -fr -i- . 4- -t.\\n\\'t -b-h\\nHotel Adams Cafe\\n. TOM, Proprietor.\\ny Having sold out my interest in the American Kitchen\\nmy entire attention to Cafe in Adams Hotel\\n.. . FINE COOKING PRICES REASONABLE.\\n$o.00 Meal T.cket for $4.50. All Pastry Made by Tom\\n3d\\nianos\\no o\\nvery profitable saving,\\n\"Ve will make\\nE.\\nP.\\nN.\\nC.\\nJENKINS. Manager.\\nPADDOCK. Ass\\'t Man.\\nr i\\nWashinpton St.\\nli\\nJl\\nS3\\n1\\nAND GIVE YOU A BREEZE WHILE\\nTHE QUESTION NOW AND KEEP\\nCOME IN AND SEE US.\\nCulture, Mrs. May French\\nArizona.\\nX:4MX:x:HX?.j\\nWHOLESOME\\nFOOD GIVE US\\nKITCHEN\\n27, N.\\nFirst St. Phone Red 143. 4-\\nxx\\':-x4xx--x-\\n35 North First Ave,\\nPhccnix, - - Arizona\\nBesort\\nSedona, Arizona.\\nCoconino County.\\nsummer resent. Tnril\\'T viainvn\\nscenery. (let full information from \\'\\nE. SCHNEBLY, Prop. Sedona, Ariz.\\n\"LIFE BY EASY STAGES.\" VI\\nGLOBE.\\nS:45 p.m. arrive\\n4:30 p. m. arrive\\nrate $10 round trip,\\n! -I- ? - -fr .j. 4- 4- 4. t\\nili give\\n5-\\nr\\nft tfittit tif ttttt.t!\\nORDINANCE NO. 384\\nConcerning\\' the Annual Levy, Assess\\nment and Collection of City Taxes.\\nThe Common Council of Phoenix do\\nordain as follows:\\nSection 1. A city tax of seventy (70)\\ncents upon every one hundred ($100.00)\\ndollars of the assessed valuation of\\nproperty is hereby levied and Imposed\\nupon all property, real and persona!\\n(except such as may be by law exempt\\nfrom taxation) in the City of Phoenix,\\nfor the general current expenses of said\\ncity, for the fiscal year commencing on\\nthe 1st day of July. 1906. and ending\\non the 30th day of June, 1S07.\\nSection 2. An additional tax of\\nseven (7) cents upon every one hun\\ndred ($100.00) dollars of the assessed\\nvaluation of property is hereby levied\\nand imposed upon all property real anil\\npersonal (except such as may be by law\\nexempt from taxation) in the City of\\nPhoenix for the payment of accruing\\ninterest upon the bonds of said city.\\nviz: The road bonds, for the fiscal year\\n\\' commencing July 1st. 1906. and endins\\n: on the 3fth day of June, 1907.\\n! Section 3. An additional tax of thir\\nteen (13) cents upon every one hundred\\n($100.00) dollars of the assessed valu\\nation of property is hereby levied and\\nimposed upon all property real ana\\npersonal (except such as may be by\\nlaw exempt from taxation) in the City\\nof Phoenix, for the payment of accru\\ning interest on the bonds of said city,\\nviz: the Fire Apparatus bonds; the\\nCity Hall bonds; the City Hall; Fire\\nEngines; and Plaza bonds for the fis\\ncal year commencing on the 1st day of\\nJuly, 1906, and ending on the 30th day\\nof June. 1907.\\nSection 4. An additional tax of five\\n(5) cents upon every one hundred\\n($100.00) dollars of the assessed valua\\ntion of property is hereby levied and\\nimposed upon all property real and per\\nsonal (except such as may be by law\\nexempt from taxation) in the City of\\nrhoenix. for the establishing and\\nj maintaining in the City of Phoenix fre\\nj public libraries and reading rooms and\\nI purchasing such books, journals and\\nother publications and erecting and\\nmaintaining such building or buildings\\nj as may be necessary therefor for the\\nfiscal year commencing on the 1st day\\nof July, 1906, and ending on the 30th,\\nday of June. 1907.\\nSection 5. An additional tax of fif\\nteen (13) cents upon every one hun\\ndred ($100.00) dollars of the assessed\\nvaluation of property Is hereby levied\\nand imposed upon all property real and\\npersonal (except such as may be by\\nlaw exempt from taxation) In the City\\nof Phoenix, for the payment of the ac\\ncruing interest on the bonds of said\\ncity, viz: the Water Works bonds for\\nthe fiscal year commencing on the 1st\\nday of July. 1906, and ending on the\\ni 20th day of June. 1907.\\nSection 6. All ordinances and parts\\nj of ordinances in conflict with the pro\\nj visions of this ordinance are hereby re\\ni pealed and any clerical error or ot her\\nj irregularity in any assessment shall\\nnot invalidate the levy provided for by\\ntins ordinance.\\nSection 7. This ordinance shall take\\neffect and be in force from and after\\nits passage, approval and publication\\nfor ten (10) days in a newspaper pub\\nlished in the City of Phoenix. Arizona\\nTerritory.\\nPassed by the Common Council this\\nth day of June, 1906.\\nApproved this 4th day of June. A. D\\n1906.\\nL. W. COGGIXS.\\nt,est: Mavor.\\nC. W. P.ARXETT.\\nCity Kecorder Pro Tern.\\nORDINANCE NO. 333.\\nAn Ordinance to Grant E. W.\\nCertain Privileges.\\nSpearg\\nThe Common Council of Phoenix do\\nordain as follows:\\nSection 1. K. W. Spears. i hereby\\ngranted the right and privilege to lay.\\n; construct and maintain and operate a\\ni sl\"Sle railroad track, for his private\\ni use, commencing at a point on the\\nnorth side of the Santa Ke, Prescott\\nand rhoenix Railroad track, midway\\nj between 2nd and 3rd streets on Jack\\nson street in the City of rhoenix. run\\nning thence in a northeasterly direction\\nalong Jackson street and across Srd\\nstreet to south half of Block 39 of said\\nCity of Phoenix.\\nSection 2. That said tracks shall be\\nlaid on the grade of said streets and\\nalleys, and that they shall be planked\\nwith substantial planks on the outside\\nof each rail and over the whole of the\\ninterior of said tracks for their fuil\\nlength. Said tracks shall be used, laid\\nand operated subject to all rules, regu\\nlations or ordinances as the Common\\nCouncil of the City of Phoenix ma\\nfrom time to time ordain or prescribe.\\nSection 3. The said E. V. Spears\\nhis heirs, executors and assigns shall\\nDe responsible for any and all acci\\ndents that shall occur to any rerson\\nbecause of the negligent laying, main\\ntaining or operating of said tracks by\\nsaid E. V. Spears, or by any perso,;\\nlaying, maintaining, operating or utng\\nthe same by the permission of \"said E.\\nTV. Spears, his heirs, executors and as\\nsigns and said E. W. Spears, his heirs,\\nexecutors and assigns shall defend at\\nhis or their expense any and all suits\\nwhich may be brought against the City\\nof Phoenix because of the laving, main -\\n! talnlng and operation of said tracks,\\n! ntiil M,.. I.\" t. . , .\\nnit: fuiu r.. w . Ljiears. nis npirs.\\nexecutors and assigns further aroo\\nto pay any and all Judgments whleii\\nmay be obtained against the said City\\nof Phoenix because of any act arising\\nout or the laying, maintaining and op\\nerating of said railroad tracks.\\nSection 4. This ordinance shall take\\nI effect and be In force from and after\\nus passage and publication according\\nto law, and the cost of the publication\\nof this ordinance shall be borne by the\\nsaid K. V.\". Spears.\\nSection j. The acceptance by E. TV.\\nSpears of this permit shall be deemed\\nto be an acceptance by him of all the\\nobligations by this ordinance provided\\nto be borne and performed by him.\\nPassed the Common Council of Phoe\\nnix, this 4th day of Juno. 1!i.\\nL. COGGIXS.\\nattest :\\nC. W. HAllN KTT,\\nCity Recorder Pro Tcm.\\nMayor.\\nFOR YOUR BUSINESS\\' SAKE\\nTALK with TODD\\nRepublics office, 10 to II xa. Cdlz'"
      ]
     },
     "execution_count": 6,
     "metadata": {},
     "output_type": "execute_result"
    }
   ],
   "source": [
    "r['items'][0]['ocr_eng']"
   ]
  },
  {
   "cell_type": "code",
   "execution_count": 8,
   "metadata": {
    "collapsed": false
   },
   "outputs": [
    {
     "data": {
      "text/plain": [
       "{'issue': {'date_issued': '1906-06-10',\n",
       "  'url': 'http://chroniclingamerica.loc.gov/lccn/sn84020558/1906-06-10/ed-1.json'},\n",
       " 'jp2': 'http://chroniclingamerica.loc.gov/lccn/sn84020558/1906-06-10/ed-1/seq-2.jp2',\n",
       " 'ocr': 'http://chroniclingamerica.loc.gov/lccn/sn84020558/1906-06-10/ed-1/seq-2/ocr.xml',\n",
       " 'pdf': 'http://chroniclingamerica.loc.gov/lccn/sn84020558/1906-06-10/ed-1/seq-2.pdf',\n",
       " 'sequence': 2,\n",
       " 'text': 'http://chroniclingamerica.loc.gov/lccn/sn84020558/1906-06-10/ed-1/seq-2/ocr.txt',\n",
       " 'title': {'name': 'Arizona republican.',\n",
       "  'url': 'http://chroniclingamerica.loc.gov/lccn/sn84020558.json'}}"
      ]
     },
     "execution_count": 8,
     "metadata": {},
     "output_type": "execute_result"
    }
   ],
   "source": [
    "requests.get(page_url).json()"
   ]
  },
  {
   "cell_type": "markdown",
   "metadata": {},
   "source": [
    "Now we're going to change up a little bit and do some search terms. This is a bit different, because now the search is based on a relevancy ranking (unlike the previous one). So click on this search to see what it looks like:\n",
    "\n",
    "http://chroniclingamerica.loc.gov/search/pages/results/?proxtext=bedbugs\n",
    "\n",
    "And then add \"&format=json\" to the end of it to get the API version again:"
   ]
  },
  {
   "cell_type": "code",
   "execution_count": 11,
   "metadata": {
    "collapsed": true
   },
   "outputs": [],
   "source": [
    "b = requests.get('http://chroniclingamerica.loc.gov/search/pages/results/?proxtext=bedbugs&format=json').json()"
   ]
  },
  {
   "cell_type": "markdown",
   "metadata": {},
   "source": [
    "We can do the same thing we did before, and just see how many results there are:"
   ]
  },
  {
   "cell_type": "code",
   "execution_count": 12,
   "metadata": {
    "collapsed": false
   },
   "outputs": [
    {
     "data": {
      "text/plain": [
       "29984"
      ]
     },
     "execution_count": 12,
     "metadata": {},
     "output_type": "execute_result"
    }
   ],
   "source": [
    "b['totalItems']"
   ]
  },
  {
   "cell_type": "markdown",
   "metadata": {},
   "source": [
    "And we can look at the items themselves again:"
   ]
  },
  {
   "cell_type": "code",
   "execution_count": 13,
   "metadata": {
    "collapsed": false
   },
   "outputs": [
    {
     "data": {
      "text/plain": [
       "'http://chroniclingamerica.loc.gov/lccn/sn83045487/1912-06-18/ed-1/seq-31.json'"
      ]
     },
     "execution_count": 13,
     "metadata": {},
     "output_type": "execute_result"
    }
   ],
   "source": [
    "b['items'][0]['url']"
   ]
  },
  {
   "cell_type": "markdown",
   "metadata": {},
   "source": [
    "Maybe now, we want to try something more complicated, like asking, \"which state has the most problem with bedbugs\" as is evidenced by the entirely scientific first hundred results for the search \"bedbugs\" on ChronAm. Note that we added \"&rows=100\" to this, which means \"give me the first hundred results\". Most search engines (including this one) let us paginate the results and pick which page we want. Without picking one, we get the first one. So, the top 100 most relevant results."
   ]
  },
  {
   "cell_type": "code",
   "execution_count": 14,
   "metadata": {
    "collapsed": true
   },
   "outputs": [],
   "source": [
    "p = requests.get(\"http://chroniclingamerica.loc.gov/search/pages/results/?proxtext=bedbugs&rows=100&format=json\").json()"
   ]
  },
  {
   "cell_type": "markdown",
   "metadata": {},
   "source": [
    "Now we're going to loop over all the results:"
   ]
  },
  {
   "cell_type": "code",
   "execution_count": 16,
   "metadata": {
    "collapsed": false
   },
   "outputs": [
    {
     "name": "stdout",
     "output_type": "stream",
     "text": [
      "['Illinois']\n",
      "['Illinois']\n",
      "['Illinois']\n",
      "['Illinois']\n",
      "['Illinois']\n",
      "['Illinois']\n",
      "['Illinois']\n",
      "['Illinois']\n",
      "['South Dakota']\n",
      "['Illinois']\n",
      "['Oregon']\n",
      "['Illinois']\n",
      "['Illinois']\n",
      "['Mississippi']\n",
      "['Missouri']\n",
      "['Kansas']\n",
      "['Minnesota']\n",
      "['South Dakota']\n",
      "['Oregon']\n",
      "['Pennsylvania']\n",
      "['Arizona']\n",
      "['Indiana']\n",
      "['Iowa']\n",
      "['Connecticut']\n",
      "['Indiana']\n",
      "['Indiana']\n",
      "['Missouri']\n",
      "['Illinois']\n",
      "['Illinois']\n",
      "['Illinois']\n",
      "['Illinois']\n",
      "['Illinois']\n",
      "['Illinois']\n",
      "['Illinois']\n",
      "['Illinois']\n",
      "['Illinois']\n",
      "['Kentucky']\n",
      "['Illinois']\n",
      "['Kansas']\n",
      "['Illinois']\n",
      "['Illinois']\n",
      "['Kentucky']\n",
      "['Texas']\n",
      "['Kentucky']\n",
      "['Ohio']\n",
      "['Indiana']\n",
      "['District of Columbia']\n",
      "['Kentucky']\n",
      "['Pennsylvania']\n",
      "['Tennessee']\n",
      "['Kentucky']\n",
      "['Virginia']\n",
      "['Indiana']\n",
      "['Kentucky']\n",
      "['Kentucky']\n",
      "['Oregon']\n",
      "['Indiana']\n",
      "['Connecticut']\n",
      "['Connecticut']\n",
      "['Connecticut']\n",
      "['Kentucky']\n",
      "['Kentucky']\n",
      "['Connecticut']\n",
      "['Oklahoma']\n",
      "['North Carolina']\n",
      "['West Virginia']\n",
      "['Montana']\n",
      "['Tennessee']\n",
      "['Arizona']\n",
      "['Oregon']\n",
      "['Oregon']\n",
      "['Tennessee']\n",
      "['Connecticut']\n",
      "['Connecticut']\n",
      "['Connecticut']\n",
      "['Indiana']\n",
      "['Kentucky']\n",
      "['Illinois']\n",
      "['Oregon']\n",
      "['Arizona']\n",
      "['Florida']\n",
      "['South Carolina']\n",
      "['South Carolina']\n",
      "['District of Columbia']\n",
      "['Connecticut']\n",
      "['District of Columbia']\n",
      "['Mississippi']\n",
      "['Mississippi']\n",
      "['Mississippi']\n",
      "['Utah']\n",
      "['Iowa']\n",
      "['Connecticut']\n",
      "['Louisiana']\n",
      "['South Carolina']\n",
      "['Kansas']\n",
      "['Washington']\n",
      "['Washington']\n",
      "['Oklahoma']\n",
      "['Washington']\n",
      "['Iowa']\n"
     ]
    }
   ],
   "source": [
    "for page in p['items']:\n",
    "    print(page['state'])"
   ]
  },
  {
   "cell_type": "code",
   "execution_count": 17,
   "metadata": {
    "collapsed": true
   },
   "outputs": [],
   "source": [
    "from collections import Counter"
   ]
  },
  {
   "cell_type": "code",
   "execution_count": 32,
   "metadata": {
    "collapsed": false
   },
   "outputs": [
    {
     "data": {
      "text/plain": [
       "[('Illinois', 24),\n",
       " ('Connecticut', 10),\n",
       " ('Kentucky', 10),\n",
       " ('Indiana', 7),\n",
       " ('Oregon', 6),\n",
       " ('Mississippi', 4),\n",
       " ('Washington', 3),\n",
       " ('South Carolina', 3),\n",
       " ('Kansas', 3),\n",
       " ('Iowa', 3),\n",
       " ('Arizona', 3),\n",
       " ('District of Columbia', 3),\n",
       " ('Tennessee', 3),\n",
       " ('Pennsylvania', 2),\n",
       " ('South Dakota', 2),\n",
       " ('Missouri', 2),\n",
       " ('Oklahoma', 2),\n",
       " ('West Virginia', 1),\n",
       " ('Florida', 1),\n",
       " ('Montana', 1),\n",
       " ('Virginia', 1),\n",
       " ('Texas', 1),\n",
       " ('Minnesota', 1),\n",
       " ('Utah', 1),\n",
       " ('Ohio', 1),\n",
       " ('North Carolina', 1),\n",
       " ('Louisiana', 1)]"
      ]
     },
     "execution_count": 32,
     "metadata": {},
     "output_type": "execute_result"
    }
   ],
   "source": [
    "c = Counter()\n",
    "for page in p['items']:\n",
    "    c[page['state'][0]] += 1\n",
    "    \n",
    "c.most_common()"
   ]
  },
  {
   "cell_type": "markdown",
   "metadata": {},
   "source": [
    "Now, it's easy enough to hate on Illinios about their obvious bedbug problem, but this is where understanding the results probably requires a human who understands the collections a little bit. Any guesses?"
   ]
  },
  {
   "cell_type": "code",
   "execution_count": null,
   "metadata": {
    "collapsed": true
   },
   "outputs": [],
   "source": []
  }
 ],
 "metadata": {
  "kernelspec": {
   "display_name": "Python [Root]",
   "language": "python",
   "name": "Python [Root]"
  },
  "language_info": {
   "codemirror_mode": {
    "name": "ipython",
    "version": 3
   },
   "file_extension": ".py",
   "mimetype": "text/x-python",
   "name": "python",
   "nbconvert_exporter": "python",
   "pygments_lexer": "ipython3",
   "version": "3.5.2"
  }
 },
 "nbformat": 4,
 "nbformat_minor": 0
}
